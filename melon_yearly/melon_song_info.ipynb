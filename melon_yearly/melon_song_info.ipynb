{
 "cells": [
  {
   "cell_type": "markdown",
   "id": "5f3f3fcd-1f76-4092-967a-31fdabf0cb43",
   "metadata": {},
   "source": [
    "## 노래 정보에서 스크래핑 대상\n",
    "- 곡ID, 앨범ID, 가수, 제목, 장르, 좋아요, 댓글, 작사가, 작곡가, 편곡자\n",
    "- 창작자정보(작곡가, 작사가, 편곡자) : 창작ID, 창작자명"
   ]
  },
  {
   "cell_type": "code",
   "execution_count": 1,
   "id": "3786f0fb-c7c5-48de-b259-4cb7a87598fc",
   "metadata": {},
   "outputs": [
    {
     "name": "stdout",
     "output_type": "stream",
     "text": [
      "\n",
      "--- DataFrame 상위 5개 행 ---\n",
      "   year  rank   song_id  album_id source\n",
      "0  2024     1  37140709  11391902  melon\n",
      "1  2024     2  37138469  11402655  melon\n",
      "2  2024     3  37524037  11487023  melon\n",
      "3  2024     4  37145732  11404142  melon\n",
      "4  2024     5  31927275  10307346  melon\n",
      "\n",
      "--- DataFrame 정보 (컬럼, 데이터 타입) ---\n",
      "<class 'pandas.core.frame.DataFrame'>\n",
      "RangeIndex: 500 entries, 0 to 499\n",
      "Data columns (total 5 columns):\n",
      " #   Column    Non-Null Count  Dtype \n",
      "---  ------    --------------  ----- \n",
      " 0   year      500 non-null    int64 \n",
      " 1   rank      500 non-null    int64 \n",
      " 2   song_id   500 non-null    int64 \n",
      " 3   album_id  500 non-null    int64 \n",
      " 4   source    500 non-null    object\n",
      "dtypes: int64(4), object(1)\n",
      "memory usage: 19.7+ KB\n"
     ]
    }
   ],
   "source": [
    "import os\n",
    "import pandas as pd\n",
    "\n",
    "# 저장했던 CSV 파일 경로\n",
    "csv_dir = os.path.join(os.getcwd(), 'csv')\n",
    "csv_file_path = os.path.join(csv_dir, 'melon_yearly_top100.csv')\n",
    "\n",
    "try:\n",
    "    df = pd.read_csv(csv_file_path, encoding='utf-8')\n",
    "    \n",
    "    # 데이터 확인\n",
    "    print(\"\\n--- DataFrame 상위 5개 행 ---\")\n",
    "    print(df.head())\n",
    "    \n",
    "    print(\"\\n--- DataFrame 정보 (컬럼, 데이터 타입) ---\")\n",
    "    df.info()\n",
    "\n",
    "except FileNotFoundError:\n",
    "    print(f\"❌ 오류: '{csv_file_path}' 파일을 찾을 수 없습니다. 경로를 확인해 주세요.\")\n",
    "except Exception as e:\n",
    "    print(f\"❌ CSV 파일을 읽어오는 중 오류가 발생했습니다: {e}\")"
   ]
  },
  {
   "cell_type": "code",
   "execution_count": 2,
   "id": "0ce73dc2-43d4-4cb6-b970-eb3f4b22ff38",
   "metadata": {
    "scrolled": true
   },
   "outputs": [],
   "source": [
    "song_ids = df['song_id'].values.tolist()\n",
    "album_ids = df['album_id'].values.tolist()"
   ]
  },
  {
   "cell_type": "code",
   "execution_count": 3,
   "id": "ca9c3da6-7569-4247-bbb6-20fe76a8818f",
   "metadata": {},
   "outputs": [],
   "source": [
    "from selenium import webdriver\n",
    "from selenium.webdriver.chrome.service import Service\n",
    "from selenium.webdriver.chrome.options import Options\n",
    "from webdriver_manager.chrome import ChromeDriverManager\n",
    "\n",
    "from selenium.webdriver.common.by import By\n",
    "from selenium.webdriver.common.action_chains import ActionChains\n",
    "from selenium.webdriver.support.ui import WebDriverWait\n",
    "from selenium.webdriver.support import expected_conditions as EC\n",
    "import time\n",
    "import re\n",
    "from tqdm import tqdm"
   ]
  },
  {
   "cell_type": "code",
   "execution_count": 4,
   "id": "8100a691-87da-46c1-a848-72f1ce4a462b",
   "metadata": {
    "scrolled": true
   },
   "outputs": [
    {
     "name": "stderr",
     "output_type": "stream",
     "text": [
      "Processing songs:  69%|█████████████████████████████████████████████████████████████████████▍                              | 347/500 [06:15<02:18,  1.11it/s]"
     ]
    },
    {
     "name": "stdout",
     "output_type": "stream",
     "text": [
      "[WARN] song_id 33346446 파싱 실패: Message: no such element: Unable to locate element: {\"method\":\"css selector\",\"selector\":\".ellipsis\"}\n",
      "  (Session info: chrome=140.0.7339.213); For documentation on this error, please visit: https://www.selenium.dev/documentation/webdriver/troubleshooting/errors#nosuchelementexception\n",
      "Stacktrace:\n",
      "0   chromedriver                        0x00000001034bf274 cxxbridge1$str$ptr + 2882596\n",
      "1   chromedriver                        0x00000001034b71a0 cxxbridge1$str$ptr + 2849616\n",
      "2   chromedriver                        0x0000000102fe1180 _RNvCslE4myv9Sbr3_7___rustc35___rust_no_alloc_shim_is_unstable_v2 + 73420\n",
      "3   chromedriver                        0x00000001030284c4 _RNvCslE4myv9Sbr3_7___rustc35___rust_no_alloc_shim_is_unstable_v2 + 365072\n",
      "4   chromedriver                        0x000000010301dd68 _RNvCslE4myv9Sbr3_7___rustc35___rust_no_alloc_shim_is_unstable_v2 + 322228\n",
      "5   chromedriver                        0x00000001030696c8 _RNvCslE4myv9Sbr3_7___rustc35___rust_no_alloc_shim_is_unstable_v2 + 631828\n",
      "6   chromedriver                        0x000000010301c188 _RNvCslE4myv9Sbr3_7___rustc35___rust_no_alloc_shim_is_unstable_v2 + 315092\n",
      "7   chromedriver                        0x0000000103482c54 cxxbridge1$str$ptr + 2635268\n",
      "8   chromedriver                        0x0000000103485e6c cxxbridge1$str$ptr + 2648092\n",
      "9   chromedriver                        0x00000001034645d4 cxxbridge1$str$ptr + 2510724\n",
      "10  chromedriver                        0x0000000103486718 cxxbridge1$str$ptr + 2650312\n",
      "11  chromedriver                        0x0000000103455d7c cxxbridge1$str$ptr + 2451244\n",
      "12  chromedriver                        0x00000001034a5dd4 cxxbridge1$str$ptr + 2779012\n",
      "13  chromedriver                        0x00000001034a5f54 cxxbridge1$str$ptr + 2779396\n",
      "14  chromedriver                        0x00000001034b6dec cxxbridge1$str$ptr + 2848668\n",
      "15  libsystem_pthread.dylib             0x000000019c9a7c0c _pthread_start + 136\n",
      "16  libsystem_pthread.dylib             0x000000019c9a2b80 thread_start + 8\n",
      "\n",
      "[WARN] song_id 33346446 파싱 실패: Message: no such element: Unable to locate element: {\"method\":\"css selector\",\"selector\":\".ellipsis\"}\n",
      "  (Session info: chrome=140.0.7339.213); For documentation on this error, please visit: https://www.selenium.dev/documentation/webdriver/troubleshooting/errors#nosuchelementexception\n",
      "Stacktrace:\n",
      "0   chromedriver                        0x00000001034bf274 cxxbridge1$str$ptr + 2882596\n",
      "1   chromedriver                        0x00000001034b71a0 cxxbridge1$str$ptr + 2849616\n",
      "2   chromedriver                        0x0000000102fe1180 _RNvCslE4myv9Sbr3_7___rustc35___rust_no_alloc_shim_is_unstable_v2 + 73420\n",
      "3   chromedriver                        0x00000001030284c4 _RNvCslE4myv9Sbr3_7___rustc35___rust_no_alloc_shim_is_unstable_v2 + 365072\n",
      "4   chromedriver                        0x000000010301dd68 _RNvCslE4myv9Sbr3_7___rustc35___rust_no_alloc_shim_is_unstable_v2 + 322228\n",
      "5   chromedriver                        0x00000001030696c8 _RNvCslE4myv9Sbr3_7___rustc35___rust_no_alloc_shim_is_unstable_v2 + 631828\n",
      "6   chromedriver                        0x000000010301c188 _RNvCslE4myv9Sbr3_7___rustc35___rust_no_alloc_shim_is_unstable_v2 + 315092\n",
      "7   chromedriver                        0x0000000103482c54 cxxbridge1$str$ptr + 2635268\n",
      "8   chromedriver                        0x0000000103485e6c cxxbridge1$str$ptr + 2648092\n",
      "9   chromedriver                        0x00000001034645d4 cxxbridge1$str$ptr + 2510724\n",
      "10  chromedriver                        0x0000000103486718 cxxbridge1$str$ptr + 2650312\n",
      "11  chromedriver                        0x0000000103455d7c cxxbridge1$str$ptr + 2451244\n",
      "12  chromedriver                        0x00000001034a5dd4 cxxbridge1$str$ptr + 2779012\n",
      "13  chromedriver                        0x00000001034a5f54 cxxbridge1$str$ptr + 2779396\n",
      "14  chromedriver                        0x00000001034b6dec cxxbridge1$str$ptr + 2848668\n",
      "15  libsystem_pthread.dylib             0x000000019c9a7c0c _pthread_start + 136\n",
      "16  libsystem_pthread.dylib             0x000000019c9a2b80 thread_start + 8\n",
      "\n",
      "[WARN] song_id 33346446 파싱 실패: Message: no such element: Unable to locate element: {\"method\":\"css selector\",\"selector\":\".ellipsis\"}\n",
      "  (Session info: chrome=140.0.7339.213); For documentation on this error, please visit: https://www.selenium.dev/documentation/webdriver/troubleshooting/errors#nosuchelementexception\n",
      "Stacktrace:\n",
      "0   chromedriver                        0x00000001034bf274 cxxbridge1$str$ptr + 2882596\n",
      "1   chromedriver                        0x00000001034b71a0 cxxbridge1$str$ptr + 2849616\n",
      "2   chromedriver                        0x0000000102fe1180 _RNvCslE4myv9Sbr3_7___rustc35___rust_no_alloc_shim_is_unstable_v2 + 73420\n",
      "3   chromedriver                        0x00000001030284c4 _RNvCslE4myv9Sbr3_7___rustc35___rust_no_alloc_shim_is_unstable_v2 + 365072\n",
      "4   chromedriver                        0x000000010301dd68 _RNvCslE4myv9Sbr3_7___rustc35___rust_no_alloc_shim_is_unstable_v2 + 322228\n",
      "5   chromedriver                        0x00000001030696c8 _RNvCslE4myv9Sbr3_7___rustc35___rust_no_alloc_shim_is_unstable_v2 + 631828\n",
      "6   chromedriver                        0x000000010301c188 _RNvCslE4myv9Sbr3_7___rustc35___rust_no_alloc_shim_is_unstable_v2 + 315092\n",
      "7   chromedriver                        0x0000000103482c54 cxxbridge1$str$ptr + 2635268\n",
      "8   chromedriver                        0x0000000103485e6c cxxbridge1$str$ptr + 2648092\n",
      "9   chromedriver                        0x00000001034645d4 cxxbridge1$str$ptr + 2510724\n",
      "10  chromedriver                        0x0000000103486718 cxxbridge1$str$ptr + 2650312\n",
      "11  chromedriver                        0x0000000103455d7c cxxbridge1$str$ptr + 2451244\n",
      "12  chromedriver                        0x00000001034a5dd4 cxxbridge1$str$ptr + 2779012\n",
      "13  chromedriver                        0x00000001034a5f54 cxxbridge1$str$ptr + 2779396\n",
      "14  chromedriver                        0x00000001034b6dec cxxbridge1$str$ptr + 2848668\n",
      "15  libsystem_pthread.dylib             0x000000019c9a7c0c _pthread_start + 136\n",
      "16  libsystem_pthread.dylib             0x000000019c9a2b80 thread_start + 8\n",
      "\n",
      "[WARN] song_id 33346446 파싱 실패: Message: no such element: Unable to locate element: {\"method\":\"css selector\",\"selector\":\".ellipsis\"}\n",
      "  (Session info: chrome=140.0.7339.213); For documentation on this error, please visit: https://www.selenium.dev/documentation/webdriver/troubleshooting/errors#nosuchelementexception\n",
      "Stacktrace:\n",
      "0   chromedriver                        0x00000001034bf274 cxxbridge1$str$ptr + 2882596\n",
      "1   chromedriver                        0x00000001034b71a0 cxxbridge1$str$ptr + 2849616\n",
      "2   chromedriver                        0x0000000102fe1180 _RNvCslE4myv9Sbr3_7___rustc35___rust_no_alloc_shim_is_unstable_v2 + 73420\n",
      "3   chromedriver                        0x00000001030284c4 _RNvCslE4myv9Sbr3_7___rustc35___rust_no_alloc_shim_is_unstable_v2 + 365072\n",
      "4   chromedriver                        0x000000010301dd68 _RNvCslE4myv9Sbr3_7___rustc35___rust_no_alloc_shim_is_unstable_v2 + 322228\n",
      "5   chromedriver                        0x00000001030696c8 _RNvCslE4myv9Sbr3_7___rustc35___rust_no_alloc_shim_is_unstable_v2 + 631828\n",
      "6   chromedriver                        0x000000010301c188 _RNvCslE4myv9Sbr3_7___rustc35___rust_no_alloc_shim_is_unstable_v2 + 315092\n",
      "7   chromedriver                        0x0000000103482c54 cxxbridge1$str$ptr + 2635268\n",
      "8   chromedriver                        0x0000000103485e6c cxxbridge1$str$ptr + 2648092\n",
      "9   chromedriver                        0x00000001034645d4 cxxbridge1$str$ptr + 2510724\n",
      "10  chromedriver                        0x0000000103486718 cxxbridge1$str$ptr + 2650312\n",
      "11  chromedriver                        0x0000000103455d7c cxxbridge1$str$ptr + 2451244\n",
      "12  chromedriver                        0x00000001034a5dd4 cxxbridge1$str$ptr + 2779012\n",
      "13  chromedriver                        0x00000001034a5f54 cxxbridge1$str$ptr + 2779396\n",
      "14  chromedriver                        0x00000001034b6dec cxxbridge1$str$ptr + 2848668\n",
      "15  libsystem_pthread.dylib             0x000000019c9a7c0c _pthread_start + 136\n",
      "16  libsystem_pthread.dylib             0x000000019c9a2b80 thread_start + 8\n",
      "\n"
     ]
    },
    {
     "name": "stderr",
     "output_type": "stream",
     "text": [
      "Processing songs:  74%|█████████████████████████████████████████████████████████████████████████▊                          | 369/500 [06:39<03:34,  1.64s/it]"
     ]
    },
    {
     "name": "stdout",
     "output_type": "stream",
     "text": [
      "[WARN] song_id 1500196 파싱 실패: Message: no such element: Unable to locate element: {\"method\":\"css selector\",\"selector\":\".ellipsis\"}\n",
      "  (Session info: chrome=140.0.7339.213); For documentation on this error, please visit: https://www.selenium.dev/documentation/webdriver/troubleshooting/errors#nosuchelementexception\n",
      "Stacktrace:\n",
      "0   chromedriver                        0x00000001034bf274 cxxbridge1$str$ptr + 2882596\n",
      "1   chromedriver                        0x00000001034b71a0 cxxbridge1$str$ptr + 2849616\n",
      "2   chromedriver                        0x0000000102fe1180 _RNvCslE4myv9Sbr3_7___rustc35___rust_no_alloc_shim_is_unstable_v2 + 73420\n",
      "3   chromedriver                        0x00000001030284c4 _RNvCslE4myv9Sbr3_7___rustc35___rust_no_alloc_shim_is_unstable_v2 + 365072\n",
      "4   chromedriver                        0x000000010301dd68 _RNvCslE4myv9Sbr3_7___rustc35___rust_no_alloc_shim_is_unstable_v2 + 322228\n",
      "5   chromedriver                        0x00000001030696c8 _RNvCslE4myv9Sbr3_7___rustc35___rust_no_alloc_shim_is_unstable_v2 + 631828\n",
      "6   chromedriver                        0x000000010301c188 _RNvCslE4myv9Sbr3_7___rustc35___rust_no_alloc_shim_is_unstable_v2 + 315092\n",
      "7   chromedriver                        0x0000000103482c54 cxxbridge1$str$ptr + 2635268\n",
      "8   chromedriver                        0x0000000103485e6c cxxbridge1$str$ptr + 2648092\n",
      "9   chromedriver                        0x00000001034645d4 cxxbridge1$str$ptr + 2510724\n",
      "10  chromedriver                        0x0000000103486718 cxxbridge1$str$ptr + 2650312\n",
      "11  chromedriver                        0x0000000103455d7c cxxbridge1$str$ptr + 2451244\n",
      "12  chromedriver                        0x00000001034a5dd4 cxxbridge1$str$ptr + 2779012\n",
      "13  chromedriver                        0x00000001034a5f54 cxxbridge1$str$ptr + 2779396\n",
      "14  chromedriver                        0x00000001034b6dec cxxbridge1$str$ptr + 2848668\n",
      "15  libsystem_pthread.dylib             0x000000019c9a7c0c _pthread_start + 136\n",
      "16  libsystem_pthread.dylib             0x000000019c9a2b80 thread_start + 8\n",
      "\n",
      "[WARN] song_id 1500196 파싱 실패: Message: no such element: Unable to locate element: {\"method\":\"css selector\",\"selector\":\".ellipsis\"}\n",
      "  (Session info: chrome=140.0.7339.213); For documentation on this error, please visit: https://www.selenium.dev/documentation/webdriver/troubleshooting/errors#nosuchelementexception\n",
      "Stacktrace:\n",
      "0   chromedriver                        0x00000001034bf274 cxxbridge1$str$ptr + 2882596\n",
      "1   chromedriver                        0x00000001034b71a0 cxxbridge1$str$ptr + 2849616\n",
      "2   chromedriver                        0x0000000102fe1180 _RNvCslE4myv9Sbr3_7___rustc35___rust_no_alloc_shim_is_unstable_v2 + 73420\n",
      "3   chromedriver                        0x00000001030284c4 _RNvCslE4myv9Sbr3_7___rustc35___rust_no_alloc_shim_is_unstable_v2 + 365072\n",
      "4   chromedriver                        0x000000010301dd68 _RNvCslE4myv9Sbr3_7___rustc35___rust_no_alloc_shim_is_unstable_v2 + 322228\n",
      "5   chromedriver                        0x00000001030696c8 _RNvCslE4myv9Sbr3_7___rustc35___rust_no_alloc_shim_is_unstable_v2 + 631828\n",
      "6   chromedriver                        0x000000010301c188 _RNvCslE4myv9Sbr3_7___rustc35___rust_no_alloc_shim_is_unstable_v2 + 315092\n",
      "7   chromedriver                        0x0000000103482c54 cxxbridge1$str$ptr + 2635268\n",
      "8   chromedriver                        0x0000000103485e6c cxxbridge1$str$ptr + 2648092\n",
      "9   chromedriver                        0x00000001034645d4 cxxbridge1$str$ptr + 2510724\n",
      "10  chromedriver                        0x0000000103486718 cxxbridge1$str$ptr + 2650312\n",
      "11  chromedriver                        0x0000000103455d7c cxxbridge1$str$ptr + 2451244\n",
      "12  chromedriver                        0x00000001034a5dd4 cxxbridge1$str$ptr + 2779012\n",
      "13  chromedriver                        0x00000001034a5f54 cxxbridge1$str$ptr + 2779396\n",
      "14  chromedriver                        0x00000001034b6dec cxxbridge1$str$ptr + 2848668\n",
      "15  libsystem_pthread.dylib             0x000000019c9a7c0c _pthread_start + 136\n",
      "16  libsystem_pthread.dylib             0x000000019c9a2b80 thread_start + 8\n",
      "\n",
      "[WARN] song_id 1500196 파싱 실패: Message: no such element: Unable to locate element: {\"method\":\"css selector\",\"selector\":\".ellipsis\"}\n",
      "  (Session info: chrome=140.0.7339.213); For documentation on this error, please visit: https://www.selenium.dev/documentation/webdriver/troubleshooting/errors#nosuchelementexception\n",
      "Stacktrace:\n",
      "0   chromedriver                        0x00000001034bf274 cxxbridge1$str$ptr + 2882596\n",
      "1   chromedriver                        0x00000001034b71a0 cxxbridge1$str$ptr + 2849616\n",
      "2   chromedriver                        0x0000000102fe1180 _RNvCslE4myv9Sbr3_7___rustc35___rust_no_alloc_shim_is_unstable_v2 + 73420\n",
      "3   chromedriver                        0x00000001030284c4 _RNvCslE4myv9Sbr3_7___rustc35___rust_no_alloc_shim_is_unstable_v2 + 365072\n",
      "4   chromedriver                        0x000000010301dd68 _RNvCslE4myv9Sbr3_7___rustc35___rust_no_alloc_shim_is_unstable_v2 + 322228\n",
      "5   chromedriver                        0x00000001030696c8 _RNvCslE4myv9Sbr3_7___rustc35___rust_no_alloc_shim_is_unstable_v2 + 631828\n",
      "6   chromedriver                        0x000000010301c188 _RNvCslE4myv9Sbr3_7___rustc35___rust_no_alloc_shim_is_unstable_v2 + 315092\n",
      "7   chromedriver                        0x0000000103482c54 cxxbridge1$str$ptr + 2635268\n",
      "8   chromedriver                        0x0000000103485e6c cxxbridge1$str$ptr + 2648092\n",
      "9   chromedriver                        0x00000001034645d4 cxxbridge1$str$ptr + 2510724\n",
      "10  chromedriver                        0x0000000103486718 cxxbridge1$str$ptr + 2650312\n",
      "11  chromedriver                        0x0000000103455d7c cxxbridge1$str$ptr + 2451244\n",
      "12  chromedriver                        0x00000001034a5dd4 cxxbridge1$str$ptr + 2779012\n",
      "13  chromedriver                        0x00000001034a5f54 cxxbridge1$str$ptr + 2779396\n",
      "14  chromedriver                        0x00000001034b6dec cxxbridge1$str$ptr + 2848668\n",
      "15  libsystem_pthread.dylib             0x000000019c9a7c0c _pthread_start + 136\n",
      "16  libsystem_pthread.dylib             0x000000019c9a2b80 thread_start + 8\n",
      "\n",
      "[WARN] song_id 1500196 파싱 실패: Message: no such element: Unable to locate element: {\"method\":\"css selector\",\"selector\":\".ellipsis\"}\n",
      "  (Session info: chrome=140.0.7339.213); For documentation on this error, please visit: https://www.selenium.dev/documentation/webdriver/troubleshooting/errors#nosuchelementexception\n",
      "Stacktrace:\n",
      "0   chromedriver                        0x00000001034bf274 cxxbridge1$str$ptr + 2882596\n",
      "1   chromedriver                        0x00000001034b71a0 cxxbridge1$str$ptr + 2849616\n",
      "2   chromedriver                        0x0000000102fe1180 _RNvCslE4myv9Sbr3_7___rustc35___rust_no_alloc_shim_is_unstable_v2 + 73420\n",
      "3   chromedriver                        0x00000001030284c4 _RNvCslE4myv9Sbr3_7___rustc35___rust_no_alloc_shim_is_unstable_v2 + 365072\n",
      "4   chromedriver                        0x000000010301dd68 _RNvCslE4myv9Sbr3_7___rustc35___rust_no_alloc_shim_is_unstable_v2 + 322228\n",
      "5   chromedriver                        0x00000001030696c8 _RNvCslE4myv9Sbr3_7___rustc35___rust_no_alloc_shim_is_unstable_v2 + 631828\n",
      "6   chromedriver                        0x000000010301c188 _RNvCslE4myv9Sbr3_7___rustc35___rust_no_alloc_shim_is_unstable_v2 + 315092\n",
      "7   chromedriver                        0x0000000103482c54 cxxbridge1$str$ptr + 2635268\n",
      "8   chromedriver                        0x0000000103485e6c cxxbridge1$str$ptr + 2648092\n",
      "9   chromedriver                        0x00000001034645d4 cxxbridge1$str$ptr + 2510724\n",
      "10  chromedriver                        0x0000000103486718 cxxbridge1$str$ptr + 2650312\n",
      "11  chromedriver                        0x0000000103455d7c cxxbridge1$str$ptr + 2451244\n",
      "12  chromedriver                        0x00000001034a5dd4 cxxbridge1$str$ptr + 2779012\n",
      "13  chromedriver                        0x00000001034a5f54 cxxbridge1$str$ptr + 2779396\n",
      "14  chromedriver                        0x00000001034b6dec cxxbridge1$str$ptr + 2848668\n",
      "15  libsystem_pthread.dylib             0x000000019c9a7c0c _pthread_start + 136\n",
      "16  libsystem_pthread.dylib             0x000000019c9a2b80 thread_start + 8\n",
      "\n"
     ]
    },
    {
     "name": "stderr",
     "output_type": "stream",
     "text": [
      "Processing songs: 100%|████████████████████████████████████████████████████████████████████████████████████████████████████| 500/500 [08:47<00:00,  1.06s/it]\n"
     ]
    }
   ],
   "source": [
    "options = Options()\n",
    "options.add_argument(\n",
    "    \"--user-agent=Mozilla/5.0 (Macintosh; Intel Mac OS X 10_15_7) \"\n",
    "    \"AppleWebKit/537.36 (KHTML, like Gecko) Chrome/140.0.0.0 Safari/537.36\"\n",
    ")\n",
    "driver = webdriver.Chrome(options=options, service=Service(ChromeDriverManager().install()))\n",
    "\n",
    "song_meta_data = []\n",
    "unique_creators = set()\n",
    "\n",
    "wait = WebDriverWait(driver, 10)\n",
    "\n",
    "for song_id, album_id in tqdm(zip(song_ids, album_ids), total=len(song_ids), desc=\"Processing songs\"):\n",
    "    try:\n",
    "        url = f'https://www.melon.com/song/detail.htm?songId={song_id}'\n",
    "        driver.get(url)\n",
    "\n",
    "        # 제목\n",
    "        title = wait.until(\n",
    "            EC.presence_of_element_located((By.CLASS_NAME, 'song_name'))\n",
    "        ).text\n",
    "\n",
    "        # 가수\n",
    "        singer = wait.until(\n",
    "            EC.presence_of_element_located((By.CLASS_NAME, 'artist'))\n",
    "        ).text\n",
    "\n",
    "        # 좋아요 수\n",
    "        like_num = wait.until(\n",
    "            EC.presence_of_element_located((By.ID, 'd_like_count'))\n",
    "        ).text.replace(\",\", \"\")\n",
    "\n",
    "        # 뎃글 수 \n",
    "        comment_num = wait.until(\n",
    "            EC.presence_of_element_located((By.ID, 'revCnt'))\n",
    "        ).text.replace(\",\", \"\").replace(\"개\", \"\")\n",
    "        \n",
    "        # 장르\n",
    "        meta_data = driver.find_element(By.CLASS_NAME, 'list')\n",
    "        genre = meta_data.find_elements(By.TAG_NAME, 'dd')[2].text\n",
    "\n",
    "        # 작사/작곡/편곡자\n",
    "        lyricists, composers, arrangers = [], [], []\n",
    "\n",
    "        creators = wait.until(\n",
    "            EC.presence_of_element_located((By.CLASS_NAME, 'list_person'))\n",
    "        )\n",
    "        li_list = creators.find_elements(By.TAG_NAME, 'li')\n",
    "\n",
    "        for li in li_list:\n",
    "            try:\n",
    "                creator_name = li.find_element(By.CLASS_NAME, 'ellipsis').text\n",
    "                creator_type = li.find_element(By.CLASS_NAME, 'meta').text\n",
    "                href = li.find_element(By.TAG_NAME, 'a').get_attribute('href')\n",
    "\n",
    "                match = re.search(r'goArtistDetail\\((\\d+)\\)', href)\n",
    "                if match:\n",
    "                    creator_id = match.group(1)\n",
    "                    unique_creators.add((creator_id, creator_name))\n",
    "\n",
    "                    if creator_type == '작사':\n",
    "                        lyricists.append(creator_id)\n",
    "                    elif creator_type == '작곡':\n",
    "                        composers.append(creator_id)\n",
    "                    elif creator_type == '편곡':\n",
    "                        arrangers.append(creator_id)\n",
    "            except Exception as e:\n",
    "                print(f\"[WARN] song_id {song_id} 파싱 실패: {e}\")\n",
    "\n",
    "        data = {\n",
    "            'song_id': song_id,\n",
    "            'album_id': album_id,\n",
    "            'singer': singer,\n",
    "            'title': title,\n",
    "            \"genre\": genre,\n",
    "            \"like_num\": like_num,\n",
    "            \"comment_num\": comment_num,\n",
    "            'lyricists': \"|\".join(lyricists),\n",
    "            'composers': \"|\".join(composers),\n",
    "            'arrangers': \"|\".join(arrangers)\n",
    "        }\n",
    "        song_meta_data.append(data)\n",
    "\n",
    "    except Exception as e:\n",
    "        print(f\"[ERROR] song_id {song_id} 처리 중 에러: {e}\")\n",
    "        continue\n",
    "\n",
    "driver.quit()"
   ]
  },
  {
   "cell_type": "code",
   "execution_count": 5,
   "id": "2008fb0d-212b-410d-a3a1-f09fe0ea66d4",
   "metadata": {
    "scrolled": true
   },
   "outputs": [
    {
     "data": {
      "text/plain": [
       "500"
      ]
     },
     "execution_count": 5,
     "metadata": {},
     "output_type": "execute_result"
    }
   ],
   "source": [
    "len(song_meta_data)"
   ]
  },
  {
   "cell_type": "code",
   "execution_count": 6,
   "id": "ea9b0dbf-37ca-4bc4-88e1-141fb400d7c1",
   "metadata": {},
   "outputs": [
    {
     "data": {
      "text/plain": [
       "{'song_id': 32323639,\n",
       " 'album_id': 10377241,\n",
       " 'singer': '김재환',\n",
       " 'title': '어떤 날엔',\n",
       " 'genre': '발라드, 국내드라마',\n",
       " 'like_num': '65962',\n",
       " 'comment_num': '1171',\n",
       " 'lyricists': '608334',\n",
       " 'composers': '720541',\n",
       " 'arrangers': '720541'}"
      ]
     },
     "execution_count": 6,
     "metadata": {},
     "output_type": "execute_result"
    }
   ],
   "source": [
    "song_meta_data[-1]"
   ]
  },
  {
   "cell_type": "code",
   "execution_count": 7,
   "id": "b41ce781-0b5a-44a7-9f01-811071462938",
   "metadata": {},
   "outputs": [
    {
     "name": "stdout",
     "output_type": "stream",
     "text": [
      "✅ 성공적으로 저장\n"
     ]
    }
   ],
   "source": [
    "# csv 저장\n",
    "import csv\n",
    "from datetime import datetime\n",
    "\n",
    "# 저장할 파일명\n",
    "csv_dir = os.path.join(os.getcwd(), 'csv')\n",
    "csv_file_path = os.path.join(csv_dir, 'melon_song_info.csv')\n",
    "\n",
    "# 딕셔너리의 키를 필드 이름(헤더)으로 사용합니다.\n",
    "fieldnames = song_meta_data[0].keys()\n",
    "\n",
    "try:\n",
    "    with open(csv_file_path, 'w', newline='', encoding='utf-8') as csvfile:\n",
    "        # DictWriter 객체 생성\n",
    "        writer = csv.DictWriter(csvfile, fieldnames=fieldnames)\n",
    "        \n",
    "        # 헤더(필드 이름) 쓰기\n",
    "        writer.writeheader()\n",
    "        \n",
    "        # 데이터를 한 줄씩 쓰기\n",
    "        writer.writerows(song_meta_data)\n",
    "       \n",
    "    print(f\"✅ 성공적으로 저장\")\n",
    "\n",
    "except Exception as e:\n",
    "    print(f\"❌ 파일 저장 중 오류 발생: {e}\")"
   ]
  },
  {
   "cell_type": "code",
   "execution_count": 8,
   "id": "a7e22f1b-e929-40bd-82a4-18b4442977e1",
   "metadata": {},
   "outputs": [
    {
     "data": {
      "text/html": [
       "<div>\n",
       "<style scoped>\n",
       "    .dataframe tbody tr th:only-of-type {\n",
       "        vertical-align: middle;\n",
       "    }\n",
       "\n",
       "    .dataframe tbody tr th {\n",
       "        vertical-align: top;\n",
       "    }\n",
       "\n",
       "    .dataframe thead th {\n",
       "        text-align: right;\n",
       "    }\n",
       "</style>\n",
       "<table border=\"1\" class=\"dataframe\">\n",
       "  <thead>\n",
       "    <tr style=\"text-align: right;\">\n",
       "      <th></th>\n",
       "      <th>song_id</th>\n",
       "      <th>album_id</th>\n",
       "      <th>singer</th>\n",
       "      <th>title</th>\n",
       "      <th>genre</th>\n",
       "      <th>like_num</th>\n",
       "      <th>comment_num</th>\n",
       "      <th>lyricists</th>\n",
       "      <th>composers</th>\n",
       "      <th>arrangers</th>\n",
       "    </tr>\n",
       "  </thead>\n",
       "  <tbody>\n",
       "    <tr>\n",
       "      <th>0</th>\n",
       "      <td>37140709</td>\n",
       "      <td>11391902</td>\n",
       "      <td>TWS (투어스)</td>\n",
       "      <td>첫 만남은 계획대로 되지 않아</td>\n",
       "      <td>댄스</td>\n",
       "      <td>165128</td>\n",
       "      <td>2019</td>\n",
       "      <td>3679765|446175|2242475|2854631|2926813</td>\n",
       "      <td>3679765|2242475|2746431|890446|3062390|2854631...</td>\n",
       "      <td>3679765|2242475|890446|2854631|2746431</td>\n",
       "    </tr>\n",
       "    <tr>\n",
       "      <th>1</th>\n",
       "      <td>37138469</td>\n",
       "      <td>11402655</td>\n",
       "      <td>i-dle (아이들)</td>\n",
       "      <td>나는 아픈 건 딱 질색이니까</td>\n",
       "      <td>댄스</td>\n",
       "      <td>172873</td>\n",
       "      <td>2284</td>\n",
       "      <td>1050107</td>\n",
       "      <td>1050107|778848|2971650|2940838</td>\n",
       "      <td>778848|2971650|2940838|1050107</td>\n",
       "    </tr>\n",
       "    <tr>\n",
       "      <th>2</th>\n",
       "      <td>37524037</td>\n",
       "      <td>11487023</td>\n",
       "      <td>aespa</td>\n",
       "      <td>Supernova</td>\n",
       "      <td>댄스</td>\n",
       "      <td>185521</td>\n",
       "      <td>6208</td>\n",
       "      <td>605098</td>\n",
       "      <td>605098|3804145|883258</td>\n",
       "      <td>883258</td>\n",
       "    </tr>\n",
       "    <tr>\n",
       "      <th>3</th>\n",
       "      <td>37145732</td>\n",
       "      <td>11404142</td>\n",
       "      <td>아이유</td>\n",
       "      <td>Love wins all</td>\n",
       "      <td>발라드</td>\n",
       "      <td>215503</td>\n",
       "      <td>2203</td>\n",
       "      <td>261143</td>\n",
       "      <td>1759925</td>\n",
       "      <td>1759925</td>\n",
       "    </tr>\n",
       "    <tr>\n",
       "      <th>4</th>\n",
       "      <td>31927275</td>\n",
       "      <td>10307346</td>\n",
       "      <td>DAY6 (데이식스)</td>\n",
       "      <td>한 페이지가 될 수 있게</td>\n",
       "      <td>록/메탈</td>\n",
       "      <td>360394</td>\n",
       "      <td>3073</td>\n",
       "      <td>895389</td>\n",
       "      <td>895387|895386|895389|895390|622071</td>\n",
       "      <td>622071</td>\n",
       "    </tr>\n",
       "  </tbody>\n",
       "</table>\n",
       "</div>"
      ],
      "text/plain": [
       "    song_id  album_id       singer             title genre  like_num  \\\n",
       "0  37140709  11391902    TWS (투어스)  첫 만남은 계획대로 되지 않아    댄스    165128   \n",
       "1  37138469  11402655  i-dle (아이들)   나는 아픈 건 딱 질색이니까    댄스    172873   \n",
       "2  37524037  11487023        aespa         Supernova    댄스    185521   \n",
       "3  37145732  11404142          아이유     Love wins all   발라드    215503   \n",
       "4  31927275  10307346  DAY6 (데이식스)     한 페이지가 될 수 있게  록/메탈    360394   \n",
       "\n",
       "   comment_num                               lyricists  \\\n",
       "0         2019  3679765|446175|2242475|2854631|2926813   \n",
       "1         2284                                 1050107   \n",
       "2         6208                                  605098   \n",
       "3         2203                                  261143   \n",
       "4         3073                                  895389   \n",
       "\n",
       "                                           composers  \\\n",
       "0  3679765|2242475|2746431|890446|3062390|2854631...   \n",
       "1                     1050107|778848|2971650|2940838   \n",
       "2                              605098|3804145|883258   \n",
       "3                                            1759925   \n",
       "4                 895387|895386|895389|895390|622071   \n",
       "\n",
       "                                arrangers  \n",
       "0  3679765|2242475|890446|2854631|2746431  \n",
       "1          778848|2971650|2940838|1050107  \n",
       "2                                  883258  \n",
       "3                                 1759925  \n",
       "4                                  622071  "
      ]
     },
     "execution_count": 8,
     "metadata": {},
     "output_type": "execute_result"
    }
   ],
   "source": [
    "# 저장한 파일 확인\n",
    "df = pd.read_csv(csv_file_path, encoding='utf-8')\n",
    "df.head()"
   ]
  },
  {
   "cell_type": "code",
   "execution_count": 9,
   "id": "4f37e00f-535e-4fa0-ac4f-2e9c5f0cbbd4",
   "metadata": {},
   "outputs": [],
   "source": [
    "# 아티스트 정보 dict_list로 변환\n",
    "creator_list = [\n",
    "    {'creator_id': id, 'creator_name': name} \n",
    "    for id, name in unique_creators\n",
    "]"
   ]
  },
  {
   "cell_type": "code",
   "execution_count": 10,
   "id": "091108de-b195-44a3-8d9c-a6a664d8b3dd",
   "metadata": {
    "scrolled": true
   },
   "outputs": [
    {
     "data": {
      "text/plain": [
       "{'creator_id': '2560319', 'creator_name': 'Rockitman'}"
      ]
     },
     "execution_count": 10,
     "metadata": {},
     "output_type": "execute_result"
    }
   ],
   "source": [
    "# 데이터 확인\n",
    "creator_list[0]"
   ]
  },
  {
   "cell_type": "code",
   "execution_count": 11,
   "id": "1d56f89f-cb1a-4670-9190-70735223cf03",
   "metadata": {},
   "outputs": [
    {
     "data": {
      "text/plain": [
       "918"
      ]
     },
     "execution_count": 11,
     "metadata": {},
     "output_type": "execute_result"
    }
   ],
   "source": [
    "len(creator_list)"
   ]
  },
  {
   "cell_type": "code",
   "execution_count": 12,
   "id": "a6b31215-2da6-4a32-b98c-34d877f00d68",
   "metadata": {},
   "outputs": [
    {
     "name": "stdout",
     "output_type": "stream",
     "text": [
      "✅ 창작자 정보 데이터가 저장되었습니다.\n"
     ]
    }
   ],
   "source": [
    "# 저장\n",
    "df_creators = pd.DataFrame(creator_list)\n",
    "csv_file_path = os.path.join(csv_dir, 'melon_creator_info.csv')\n",
    "df_creators.to_csv(csv_file_path, index=False, encoding='utf-8-sig')\n",
    "print(\"✅ 창작자 정보 데이터가 저장되었습니다.\")"
   ]
  },
  {
   "cell_type": "code",
   "execution_count": 13,
   "id": "99483efe-61c4-4b11-9844-c162eee5bfd7",
   "metadata": {},
   "outputs": [
    {
     "data": {
      "text/html": [
       "<div>\n",
       "<style scoped>\n",
       "    .dataframe tbody tr th:only-of-type {\n",
       "        vertical-align: middle;\n",
       "    }\n",
       "\n",
       "    .dataframe tbody tr th {\n",
       "        vertical-align: top;\n",
       "    }\n",
       "\n",
       "    .dataframe thead th {\n",
       "        text-align: right;\n",
       "    }\n",
       "</style>\n",
       "<table border=\"1\" class=\"dataframe\">\n",
       "  <thead>\n",
       "    <tr style=\"text-align: right;\">\n",
       "      <th></th>\n",
       "      <th>creator_id</th>\n",
       "      <th>creator_name</th>\n",
       "    </tr>\n",
       "  </thead>\n",
       "  <tbody>\n",
       "    <tr>\n",
       "      <th>0</th>\n",
       "      <td>2560319</td>\n",
       "      <td>Rockitman</td>\n",
       "    </tr>\n",
       "    <tr>\n",
       "      <th>1</th>\n",
       "      <td>722679</td>\n",
       "      <td>EL CAPITXN</td>\n",
       "    </tr>\n",
       "    <tr>\n",
       "      <th>2</th>\n",
       "      <td>2748606</td>\n",
       "      <td>Vince</td>\n",
       "    </tr>\n",
       "    <tr>\n",
       "      <th>3</th>\n",
       "      <td>2950352</td>\n",
       "      <td>Steve Mac</td>\n",
       "    </tr>\n",
       "    <tr>\n",
       "      <th>4</th>\n",
       "      <td>2940838</td>\n",
       "      <td>Likey</td>\n",
       "    </tr>\n",
       "  </tbody>\n",
       "</table>\n",
       "</div>"
      ],
      "text/plain": [
       "   creator_id creator_name\n",
       "0     2560319    Rockitman\n",
       "1      722679   EL CAPITXN\n",
       "2     2748606        Vince\n",
       "3     2950352    Steve Mac\n",
       "4     2940838        Likey"
      ]
     },
     "execution_count": 13,
     "metadata": {},
     "output_type": "execute_result"
    }
   ],
   "source": [
    "df = pd.read_csv(csv_file_path, encoding='utf-8')\n",
    "df.head()"
   ]
  },
  {
   "cell_type": "code",
   "execution_count": null,
   "id": "52e601fc-9fad-428b-96bf-25046fad3fad",
   "metadata": {},
   "outputs": [],
   "source": []
  }
 ],
 "metadata": {
  "kernelspec": {
   "display_name": "Python 3 (ipykernel)",
   "language": "python",
   "name": "python3"
  },
  "language_info": {
   "codemirror_mode": {
    "name": "ipython",
    "version": 3
   },
   "file_extension": ".py",
   "mimetype": "text/x-python",
   "name": "python",
   "nbconvert_exporter": "python",
   "pygments_lexer": "ipython3",
   "version": "3.13.5"
  }
 },
 "nbformat": 4,
 "nbformat_minor": 5
}
